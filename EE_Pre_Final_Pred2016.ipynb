{
 "cells": [
  {
   "cell_type": "markdown",
   "metadata": {
    "collapsed": true
   },
   "source": [
    "# Import libraries"
   ]
  },
  {
   "cell_type": "code",
   "execution_count": 1,
   "metadata": {
    "collapsed": true
   },
   "outputs": [],
   "source": [
    "import pandas as pd\n",
    "import pickle\n",
    "from math import sqrt\n",
    "import seaborn as sns\n",
    "import matplotlib.pyplot as plt\n",
    "%matplotlib inline\n",
    "from sklearn.linear_model import LinearRegression,Lasso,Ridge,ElasticNet\n",
    "from sklearn.model_selection import GridSearchCV\n",
    "from sklearn.metrics import mean_squared_error,r2_score\n",
    "from sklearn.ensemble import ExtraTreesRegressor"
   ]
  },
  {
   "cell_type": "markdown",
   "metadata": {},
   "source": [
    "# Read csv and build DataFrame"
   ]
  },
  {
   "cell_type": "code",
   "execution_count": 2,
   "metadata": {},
   "outputs": [
    {
     "name": "stdout",
     "output_type": "stream",
     "text": [
      "Shape (912, 66)\n"
     ]
    },
    {
     "data": {
      "text/html": [
       "<div>\n",
       "<style>\n",
       "    .dataframe thead tr:only-child th {\n",
       "        text-align: right;\n",
       "    }\n",
       "\n",
       "    .dataframe thead th {\n",
       "        text-align: left;\n",
       "    }\n",
       "\n",
       "    .dataframe tbody tr th {\n",
       "        vertical-align: top;\n",
       "    }\n",
       "</style>\n",
       "<table border=\"1\" class=\"dataframe\">\n",
       "  <thead>\n",
       "    <tr style=\"text-align: right;\">\n",
       "      <th></th>\n",
       "      <th>X0</th>\n",
       "      <th>X1</th>\n",
       "      <th>X2</th>\n",
       "      <th>X3</th>\n",
       "      <th>X4</th>\n",
       "      <th>X5</th>\n",
       "      <th>X6</th>\n",
       "      <th>X7</th>\n",
       "      <th>X8</th>\n",
       "      <th>X9</th>\n",
       "      <th>...</th>\n",
       "      <th>X56</th>\n",
       "      <th>X57</th>\n",
       "      <th>X58</th>\n",
       "      <th>X59</th>\n",
       "      <th>X60</th>\n",
       "      <th>X61</th>\n",
       "      <th>X62</th>\n",
       "      <th>X63</th>\n",
       "      <th>X64</th>\n",
       "      <th>Y</th>\n",
       "    </tr>\n",
       "  </thead>\n",
       "  <tbody>\n",
       "    <tr>\n",
       "      <th>0</th>\n",
       "      <td>2016</td>\n",
       "      <td>841</td>\n",
       "      <td>285</td>\n",
       "      <td>0</td>\n",
       "      <td>90</td>\n",
       "      <td>50</td>\n",
       "      <td>40</td>\n",
       "      <td>25</td>\n",
       "      <td>25</td>\n",
       "      <td>15</td>\n",
       "      <td>...</td>\n",
       "      <td>0</td>\n",
       "      <td>0</td>\n",
       "      <td>15</td>\n",
       "      <td>0</td>\n",
       "      <td>0</td>\n",
       "      <td>0</td>\n",
       "      <td>0</td>\n",
       "      <td>0</td>\n",
       "      <td>30</td>\n",
       "      <td>220</td>\n",
       "    </tr>\n",
       "    <tr>\n",
       "      <th>1</th>\n",
       "      <td>2016</td>\n",
       "      <td>840</td>\n",
       "      <td>920</td>\n",
       "      <td>35</td>\n",
       "      <td>305</td>\n",
       "      <td>160</td>\n",
       "      <td>145</td>\n",
       "      <td>75</td>\n",
       "      <td>75</td>\n",
       "      <td>70</td>\n",
       "      <td>...</td>\n",
       "      <td>0</td>\n",
       "      <td>0</td>\n",
       "      <td>90</td>\n",
       "      <td>0</td>\n",
       "      <td>0</td>\n",
       "      <td>10</td>\n",
       "      <td>0</td>\n",
       "      <td>0</td>\n",
       "      <td>5</td>\n",
       "      <td>815</td>\n",
       "    </tr>\n",
       "    <tr>\n",
       "      <th>2</th>\n",
       "      <td>2016</td>\n",
       "      <td>390</td>\n",
       "      <td>540</td>\n",
       "      <td>20</td>\n",
       "      <td>205</td>\n",
       "      <td>120</td>\n",
       "      <td>85</td>\n",
       "      <td>40</td>\n",
       "      <td>50</td>\n",
       "      <td>50</td>\n",
       "      <td>...</td>\n",
       "      <td>0</td>\n",
       "      <td>0</td>\n",
       "      <td>45</td>\n",
       "      <td>0</td>\n",
       "      <td>0</td>\n",
       "      <td>0</td>\n",
       "      <td>5</td>\n",
       "      <td>0</td>\n",
       "      <td>15</td>\n",
       "      <td>380</td>\n",
       "    </tr>\n",
       "    <tr>\n",
       "      <th>3</th>\n",
       "      <td>2016</td>\n",
       "      <td>805</td>\n",
       "      <td>270</td>\n",
       "      <td>10</td>\n",
       "      <td>105</td>\n",
       "      <td>55</td>\n",
       "      <td>55</td>\n",
       "      <td>15</td>\n",
       "      <td>20</td>\n",
       "      <td>30</td>\n",
       "      <td>...</td>\n",
       "      <td>0</td>\n",
       "      <td>0</td>\n",
       "      <td>25</td>\n",
       "      <td>0</td>\n",
       "      <td>0</td>\n",
       "      <td>0</td>\n",
       "      <td>10</td>\n",
       "      <td>0</td>\n",
       "      <td>5</td>\n",
       "      <td>255</td>\n",
       "    </tr>\n",
       "    <tr>\n",
       "      <th>4</th>\n",
       "      <td>2016</td>\n",
       "      <td>806</td>\n",
       "      <td>535</td>\n",
       "      <td>15</td>\n",
       "      <td>180</td>\n",
       "      <td>95</td>\n",
       "      <td>85</td>\n",
       "      <td>45</td>\n",
       "      <td>40</td>\n",
       "      <td>40</td>\n",
       "      <td>...</td>\n",
       "      <td>0</td>\n",
       "      <td>0</td>\n",
       "      <td>40</td>\n",
       "      <td>0</td>\n",
       "      <td>0</td>\n",
       "      <td>0</td>\n",
       "      <td>0</td>\n",
       "      <td>0</td>\n",
       "      <td>15</td>\n",
       "      <td>440</td>\n",
       "    </tr>\n",
       "  </tbody>\n",
       "</table>\n",
       "<p>5 rows × 66 columns</p>\n",
       "</div>"
      ],
      "text/plain": [
       "     X0   X1   X2  X3   X4   X5   X6  X7  X8  X9 ...   X56  X57  X58  X59  \\\n",
       "0  2016  841  285   0   90   50   40  25  25  15 ...     0    0   15    0   \n",
       "1  2016  840  920  35  305  160  145  75  75  70 ...     0    0   90    0   \n",
       "2  2016  390  540  20  205  120   85  40  50  50 ...     0    0   45    0   \n",
       "3  2016  805  270  10  105   55   55  15  20  30 ...     0    0   25    0   \n",
       "4  2016  806  535  15  180   95   85  45  40  40 ...     0    0   40    0   \n",
       "\n",
       "   X60  X61  X62  X63  X64    Y  \n",
       "0    0    0    0    0   30  220  \n",
       "1    0   10    0    0    5  815  \n",
       "2    0    0    5    0   15  380  \n",
       "3    0    0   10    0    5  255  \n",
       "4    0    0    0    0   15  440  \n",
       "\n",
       "[5 rows x 66 columns]"
      ]
     },
     "execution_count": 2,
     "metadata": {},
     "output_type": "execute_result"
    }
   ],
   "source": [
    "df = pd.read_csv('EE_FinalDF.csv')\n",
    "print \"Shape\",df.shape\n",
    "df.head()"
   ]
  },
  {
   "cell_type": "markdown",
   "metadata": {},
   "source": [
    "# Check correlation"
   ]
  },
  {
   "cell_type": "code",
   "execution_count": 4,
   "metadata": {},
   "outputs": [
    {
     "data": {
      "image/png": "[encoded data removed]",
      "text/plain": [
       "<matplotlib.figure.Figure at 0x7fd7c77409d0>"
      ]
     },
     "metadata": {},
     "output_type": "display_data"
    }
   ],
   "source": [
    "plt.figure(figsize=(15,12))\n",
    "sns.heatmap(df.corr(),vmin=0,vmax=1)\n",
    "plt.show()"
   ]
  },
  {
   "cell_type": "markdown",
   "metadata": {},
   "source": [
    "# Train with 2011-2015, Test 2016"
   ]
  },
  {
   "cell_type": "code",
   "execution_count": 5,
   "metadata": {
    "collapsed": true
   },
   "outputs": [],
   "source": [
    "X_train = df.iloc[152:,0:-1]\n",
    "y_train = df.iloc[152:,-1]\n",
    "X_test  = df.iloc[0:152,0:-1]\n",
    "y_test  = df.iloc[0:152,-1]"
   ]
  },
  {
   "cell_type": "markdown",
   "metadata": {},
   "source": [
    "# Linear Regression"
   ]
  },
  {
   "cell_type": "code",
   "execution_count": 8,
   "metadata": {},
   "outputs": [
    {
     "name": "stdout",
     "output_type": "stream",
     "text": [
      "RMSE \t: 115.251155931\n",
      "r2_score: 0.887086413428\n"
     ]
    }
   ],
   "source": [
    "model = LinearRegression()\n",
    "model = model.fit(X_train,y_train)\n",
    "y_pred = model.predict(X_test)\n",
    "\n",
    "print \"RMSE \\t:\",sqrt(mean_squared_error(y_pred,y_test))\n",
    "print \"r2_score:\",r2_score(y_pred,y_test)"
   ]
  },
  {
   "cell_type": "markdown",
   "metadata": {},
   "source": [
    "# Lasso"
   ]
  },
  {
   "cell_type": "code",
   "execution_count": 9,
   "metadata": {},
   "outputs": [
    {
     "name": "stdout",
     "output_type": "stream",
     "text": [
      "RMSE \t: 102.297534398\n",
      "r2_score: 0.906330959472\n"
     ]
    },
    {
     "name": "stderr",
     "output_type": "stream",
     "text": [
      "/home/rohan/.local/lib/python2.7/site-packages/sklearn/linear_model/coordinate_descent.py:491: ConvergenceWarning: Objective did not converge. You might want to increase the number of iterations. Fitting data with very small alpha may cause precision problems.\n",
      "  ConvergenceWarning)\n"
     ]
    }
   ],
   "source": [
    "from sklearn.linear_model import Lasso\n",
    "\n",
    "las = Lasso()\n",
    "las.fit(X_train,y_train)\n",
    "y_pred = las.predict(X_test)\n",
    "print \"RMSE \\t:\",sqrt(mean_squared_error(y_pred,y_test))\n",
    "print \"r2_score:\",r2_score(y_pred,y_test)"
   ]
  },
  {
   "cell_type": "markdown",
   "metadata": {},
   "source": [
    "###### Getting above warning. Need to GridSearch a better alpha"
   ]
  },
  {
   "cell_type": "markdown",
   "metadata": {},
   "source": [
    "#  Ridge"
   ]
  },
  {
   "cell_type": "code",
   "execution_count": 10,
   "metadata": {},
   "outputs": [
    {
     "name": "stdout",
     "output_type": "stream",
     "text": [
      "RMSE \t: 114.760927589\n",
      "r2_score: 0.887831693737\n"
     ]
    }
   ],
   "source": [
    "from sklearn.linear_model import Ridge\n",
    "\n",
    "rid = Ridge()\n",
    "rid.fit(X_train,y_train)\n",
    "y_pred = rid.predict(X_test)\n",
    "print \"RMSE \\t:\",sqrt(mean_squared_error(y_pred,y_test))\n",
    "print \"r2_score:\",r2_score(y_pred,y_test)"
   ]
  },
  {
   "cell_type": "markdown",
   "metadata": {},
   "source": [
    "# ElasticNet"
   ]
  },
  {
   "cell_type": "code",
   "execution_count": 11,
   "metadata": {},
   "outputs": [
    {
     "name": "stdout",
     "output_type": "stream",
     "text": [
      "RMSE \t: 102.39438193\n",
      "r2_score: 0.905801168795\n"
     ]
    }
   ],
   "source": [
    "from sklearn.linear_model import ElasticNet\n",
    "\n",
    "ela = ElasticNet()\n",
    "ela.fit(X_train,y_train)\n",
    "y_pred = ela.predict(X_test)\n",
    "print \"RMSE \\t:\",sqrt(mean_squared_error(y_pred,y_test))\n",
    "print \"r2_score:\",r2_score(y_pred,y_test)"
   ]
  },
  {
   "cell_type": "markdown",
   "metadata": {},
   "source": [
    "# GridSearch on Lasso"
   ]
  },
  {
   "cell_type": "code",
   "execution_count": 14,
   "metadata": {},
   "outputs": [
    {
     "data": {
      "text/plain": [
       "GridSearchCV(cv=5, error_score='raise',\n",
       "       estimator=Lasso(alpha=1.0, copy_X=True, fit_intercept=True, max_iter=1000,\n",
       "   normalize=False, positive=False, precompute=False, random_state=9,\n",
       "   selection='cyclic', tol=0.0001, warm_start=False),\n",
       "       fit_params=None, iid=True, n_jobs=1,\n",
       "       param_grid={'normalize': [False, True], 'alpha': [500, 600, 700, 800, 900, 930, 960, 990, 1000], 'max_iter': [1000, 5000, 10000, 1000000, 1050000]},\n",
       "       pre_dispatch='2*n_jobs', refit=True, return_train_score=True,\n",
       "       scoring=None, verbose=0)"
      ]
     },
     "execution_count": 14,
     "metadata": {},
     "output_type": "execute_result"
    }
   ],
   "source": [
    "from sklearn.model_selection import GridSearchCV\n",
    "\n",
    "estimator = Lasso(random_state=9)\n",
    "\n",
    "params = {'alpha' : [500,600,700,800,900,930,960,990,1000],\n",
    "          'max_iter' : [1000,5000,10000,1000000,1050000],\n",
    "          'normalize' : [False,True]\n",
    "         }\n",
    "\n",
    "grid = GridSearchCV(estimator=estimator,param_grid=params,cv=5)\n",
    "grid.fit(X_train,y_train)"
   ]
  },
  {
   "cell_type": "code",
   "execution_count": 15,
   "metadata": {},
   "outputs": [
    {
     "data": {
      "text/plain": [
       "Lasso(alpha=900, copy_X=True, fit_intercept=True, max_iter=1000,\n",
       "   normalize=False, positive=False, precompute=False, random_state=9,\n",
       "   selection='cyclic', tol=0.0001, warm_start=False)"
      ]
     },
     "execution_count": 15,
     "metadata": {},
     "output_type": "execute_result"
    }
   ],
   "source": [
    "grid.best_estimator_"
   ]
  },
  {
   "cell_type": "code",
   "execution_count": 16,
   "metadata": {},
   "outputs": [
    {
     "name": "stdout",
     "output_type": "stream",
     "text": [
      "RMSE \t: 68.1172320822\n",
      "r2_score: 0.954707568864\n"
     ]
    }
   ],
   "source": [
    "lasso = Lasso(alpha=900, copy_X=True, fit_intercept=True, max_iter=1000,\n",
    "   normalize=False, positive=False, precompute=False, random_state=9,\n",
    "   selection='cyclic', tol=0.0001, warm_start=False)\n",
    "lasso.fit(X_train,y_train)\n",
    "y_pred = lasso.predict(X_test)\n",
    "print \"RMSE \\t:\",sqrt(mean_squared_error(y_pred,y_test))\n",
    "print \"r2_score:\",r2_score(y_pred,y_test)"
   ]
  },
  {
   "cell_type": "markdown",
   "metadata": {},
   "source": [
    "# GridSearch on ElasticNet"
   ]
  },
  {
   "cell_type": "code",
   "execution_count": 17,
   "metadata": {},
   "outputs": [
    {
     "data": {
      "text/plain": [
       "GridSearchCV(cv=5, error_score='raise',\n",
       "       estimator=ElasticNet(alpha=1.0, copy_X=True, fit_intercept=True, l1_ratio=0.5,\n",
       "      max_iter=1000, normalize=False, positive=False, precompute=False,\n",
       "      random_state=9, selection='cyclic', tol=0.0001, warm_start=False),\n",
       "       fit_params=None, iid=True, n_jobs=-1,\n",
       "       param_grid={'normalize': [False, True], 'alpha': [1000, 1100, 1200, 1250, 1260, 1270, 1280, 1290, 1300, 1350], 'max_iter': [1000, 5000, 10000, 1000000, 1050000]},\n",
       "       pre_dispatch='2*n_jobs', refit=True, return_train_score=True,\n",
       "       scoring=None, verbose=0)"
      ]
     },
     "execution_count": 17,
     "metadata": {},
     "output_type": "execute_result"
    }
   ],
   "source": [
    "from sklearn.linear_model import ElasticNet\n",
    "estimator = ElasticNet(random_state=9)\n",
    "\n",
    "params = {'alpha' : [1000,1100,1200,1250,1260,1270,1280,1290,1300,1350],\n",
    "          'max_iter' : [1000,5000,10000,1000000,1050000],\n",
    "          'normalize' : [False,True]\n",
    "         }\n",
    "\n",
    "grid = GridSearchCV(estimator=estimator,param_grid=params,cv=5,n_jobs=-1)\n",
    "grid.fit(X_train,y_train)"
   ]
  },
  {
   "cell_type": "code",
   "execution_count": 18,
   "metadata": {},
   "outputs": [
    {
     "data": {
      "text/plain": [
       "ElasticNet(alpha=1250, copy_X=True, fit_intercept=True, l1_ratio=0.5,\n",
       "      max_iter=1000, normalize=False, positive=False, precompute=False,\n",
       "      random_state=9, selection='cyclic', tol=0.0001, warm_start=False)"
      ]
     },
     "execution_count": 18,
     "metadata": {},
     "output_type": "execute_result"
    }
   ],
   "source": [
    "grid.best_estimator_"
   ]
  },
  {
   "cell_type": "code",
   "execution_count": 19,
   "metadata": {},
   "outputs": [
    {
     "name": "stdout",
     "output_type": "stream",
     "text": [
      "RMSE \t: 66.629980119\n",
      "r2_score: 0.956038067263\n"
     ]
    }
   ],
   "source": [
    "ela2 = ElasticNet(alpha=1250, copy_X=True, fit_intercept=True, l1_ratio=0.5,\n",
    "      max_iter=1000, normalize=False, positive=False, precompute=False,\n",
    "      random_state=9, selection='cyclic', tol=0.0001, warm_start=False)\n",
    "ela2.fit(X_train,y_train)\n",
    "y_pred = ela2.predict(X_test)\n",
    "print \"RMSE \\t:\",sqrt(mean_squared_error(y_pred,y_test))\n",
    "print \"r2_score:\",r2_score(y_pred,y_test)"
   ]
  },
  {
   "cell_type": "markdown",
   "metadata": {},
   "source": [
    "# Dump this model for later use"
   ]
  },
  {
   "cell_type": "code",
   "execution_count": 50,
   "metadata": {
    "collapsed": true
   },
   "outputs": [],
   "source": [
    "filename = 'ElasticNetPred2016.sav'\n",
    "pickle.dump(ela2, open(filename, 'wb'))"
   ]
  },
  {
   "cell_type": "markdown",
   "metadata": {},
   "source": [
    "# GridSearch on ElasticNet gave the best scores.\n",
    "## Working on it further"
   ]
  },
  {
   "cell_type": "code",
   "execution_count": 31,
   "metadata": {},
   "outputs": [
    {
     "data": {
      "text/plain": [
       "array([-0.        ,  0.02680257,  0.71251083,  0.        ,  0.        ,\n",
       "        0.        ,  0.        ,  0.        ,  0.        ,  0.        ,\n",
       "       -0.        , -0.        ,  0.        , -0.        , -0.        ,\n",
       "        0.        , -0.        , -0.        , -0.        , -0.        ,\n",
       "        0.        ,  0.        , -0.        , -0.        , -0.        ,\n",
       "       -0.0203605 , -0.        ,  0.        ,  0.        , -0.        ,\n",
       "        0.        , -0.        , -0.        , -0.        ,  0.        ,\n",
       "       -0.        , -0.        , -0.        , -0.        , -0.        ,\n",
       "       -0.        , -0.        , -0.        , -0.        , -0.03705862,\n",
       "       -0.        , -0.        , -0.        , -0.        , -0.        ,\n",
       "       -0.        , -0.        , -0.        , -0.        , -0.        ,\n",
       "       -0.        , -0.        , -0.        , -0.        ,  0.        ,\n",
       "       -0.        , -0.        , -0.        ,  0.        , -0.        ])"
      ]
     },
     "execution_count": 31,
     "metadata": {},
     "output_type": "execute_result"
    }
   ],
   "source": [
    "# Coefficients of ElasticNet\n",
    "ela2.coef_"
   ]
  },
  {
   "cell_type": "code",
   "execution_count": 32,
   "metadata": {},
   "outputs": [
    {
     "name": "stdout",
     "output_type": "stream",
     "text": [
      "RMSE \t: 94.4408668098\n",
      "r2_score: 0.900973480375\n"
     ]
    }
   ],
   "source": [
    "# Testing performance on train-set\n",
    "\n",
    "ela2 = ElasticNet(alpha=1250, copy_X=True, fit_intercept=True, l1_ratio=0.5,\n",
    "      max_iter=1000, normalize=False, positive=False, precompute=False,\n",
    "      random_state=9, selection='cyclic', tol=0.0001, warm_start=False)\n",
    "ela2.fit(X_train,y_train)\n",
    "y_pred = ela2.predict(X_train)\n",
    "print \"RMSE \\t:\",sqrt(mean_squared_error(y_pred,y_train))\n",
    "print \"r2_score:\",r2_score(y_pred,y_train)"
   ]
  },
  {
   "cell_type": "markdown",
   "metadata": {},
   "source": [
    "# ExtraTreesRegressor"
   ]
  },
  {
   "cell_type": "code",
   "execution_count": 34,
   "metadata": {},
   "outputs": [
    {
     "name": "stdout",
     "output_type": "stream",
     "text": [
      "RMSE \t: 113.774035922\n",
      "r2_score: 0.848795295105\n"
     ]
    }
   ],
   "source": [
    "etreg = ExtraTreesRegressor(random_state=9)\n",
    "etreg.fit(X_train,y_train)\n",
    "y_pred = etreg.predict(X_test)\n",
    "print \"RMSE \\t:\",sqrt(mean_squared_error(y_pred,y_test))\n",
    "print \"r2_score:\",r2_score(y_pred,y_test)"
   ]
  },
  {
   "cell_type": "markdown",
   "metadata": {},
   "source": [
    "# ExtraTreesRegressor with GridSearch !! CAUTION !! "
   ]
  },
  {
   "cell_type": "code",
   "execution_count": 35,
   "metadata": {
    "collapsed": true
   },
   "outputs": [],
   "source": [
    "params = { 'n_estimators' : [10,50,100,200,300,400,500],\n",
    "          'criterion' : [\"mse\",\"mae\"],\n",
    "          'min_samples_split' : [2,5,10,20,25] \n",
    "            }\n",
    "est = ExtraTreesRegressor(n_jobs=-1,random_state=9)\n",
    "grid2 = GridSearchCV(estimator=est,param_grid=params,n_jobs=-1,cv=5)\n",
    "grid2 = grid2.fit(X_train,y_train)"
   ]
  },
  {
   "cell_type": "code",
   "execution_count": 36,
   "metadata": {},
   "outputs": [
    {
     "data": {
      "text/plain": [
       "ExtraTreesRegressor(bootstrap=False, criterion='mse', max_depth=None,\n",
       "          max_features='auto', max_leaf_nodes=None,\n",
       "          min_impurity_decrease=0.0, min_impurity_split=None,\n",
       "          min_samples_leaf=1, min_samples_split=5,\n",
       "          min_weight_fraction_leaf=0.0, n_estimators=300, n_jobs=-1,\n",
       "          oob_score=False, random_state=9, verbose=0, warm_start=False)"
      ]
     },
     "execution_count": 36,
     "metadata": {},
     "output_type": "execute_result"
    }
   ],
   "source": [
    "grid2.best_estimator_"
   ]
  },
  {
   "cell_type": "code",
   "execution_count": 37,
   "metadata": {},
   "outputs": [
    {
     "name": "stdout",
     "output_type": "stream",
     "text": [
      "RMSE \t: 82.67499926\n",
      "r2_score: 0.915392244446\n"
     ]
    }
   ],
   "source": [
    "etreg2 = ExtraTreesRegressor(bootstrap=False, criterion='mse', max_depth=None,\n",
    "          max_features='auto', max_leaf_nodes=None,\n",
    "          min_impurity_decrease=0.0, min_impurity_split=None,\n",
    "          min_samples_leaf=1, min_samples_split=5,\n",
    "          min_weight_fraction_leaf=0.0, n_estimators=300, n_jobs=-1,\n",
    "          oob_score=False, random_state=9, verbose=0, warm_start=False)\n",
    "etreg2.fit(X_train,y_train)\n",
    "y_pred = etreg2.predict(X_test)\n",
    "print \"RMSE \\t:\",sqrt(mean_squared_error(y_pred,y_test))\n",
    "print \"r2_score:\",r2_score(y_pred,y_test)"
   ]
  },
  {
   "cell_type": "markdown",
   "metadata": {},
   "source": [
    "# Trying out feature selection with ExtraTreesRegressor"
   ]
  },
  {
   "cell_type": "code",
   "execution_count": 38,
   "metadata": {
    "collapsed": true
   },
   "outputs": [],
   "source": [
    "X = df.iloc[:,0:-1]\n",
    "y = df.iloc[:,-1]\n",
    "reg = ExtraTreesRegressor(bootstrap=False, criterion='mse', max_depth=None,\n",
    "          max_features='auto', max_leaf_nodes=None,\n",
    "          min_impurity_decrease=0.0, min_impurity_split=None,\n",
    "          min_samples_leaf=1, min_samples_split=5,\n",
    "          min_weight_fraction_leaf=0.0, n_estimators=300, n_jobs=-1,\n",
    "          oob_score=False, random_state=9, verbose=0, warm_start=False)\n",
    "reg = reg.fit(X,y)"
   ]
  },
  {
   "cell_type": "code",
   "execution_count": 39,
   "metadata": {},
   "outputs": [
    {
     "data": {
      "text/plain": [
       "(912, 10)"
      ]
     },
     "execution_count": 39,
     "metadata": {},
     "output_type": "execute_result"
    }
   ],
   "source": [
    "from sklearn.feature_selection import SelectFromModel\n",
    "\n",
    "model = SelectFromModel(reg, prefit=True)\n",
    "X_new = model.transform(X)\n",
    "X_new.shape"
   ]
  },
  {
   "cell_type": "code",
   "execution_count": 40,
   "metadata": {},
   "outputs": [
    {
     "name": "stdout",
     "output_type": "stream",
     "text": [
      "(0.33395599524015057, 'X2')\n",
      "(0.10521372679054221, 'X6')\n",
      "(0.080255484110997574, 'X4')\n",
      "(0.07839950377130292, 'X7')\n",
      "(0.074913170679181407, 'X38')\n",
      "(0.074444570171668598, 'X8')\n",
      "(0.045833740257939466, 'X37')\n",
      "(0.043117787257177145, 'X40')\n",
      "(0.037161443636337159, 'X5')\n",
      "(0.02795271030777783, 'X9')\n"
     ]
    }
   ],
   "source": [
    "from operator import itemgetter\n",
    "\n",
    "importances = list(zip(reg.feature_importances_, df.columns))\n",
    "\n",
    "important_features = sorted(importances,key=itemgetter(0),reverse=True)\n",
    "for i in range(0,10):\n",
    "    print important_features[i]"
   ]
  },
  {
   "cell_type": "code",
   "execution_count": 41,
   "metadata": {
    "collapsed": true
   },
   "outputs": [],
   "source": [
    "ndf = df[['X2','X4','X5','X6','X7','X8','X9','X37','X38','X40','Y']]"
   ]
  },
  {
   "cell_type": "code",
   "execution_count": 42,
   "metadata": {
    "collapsed": true
   },
   "outputs": [],
   "source": [
    "X_train = ndf.iloc[152:,0:-1]\n",
    "y_train = ndf.iloc[152:,-1]\n",
    "X_test = ndf.iloc[0:152,0:-1]\n",
    "y_test = ndf.iloc[0:152,-1]"
   ]
  },
  {
   "cell_type": "code",
   "execution_count": 45,
   "metadata": {},
   "outputs": [
    {
     "name": "stdout",
     "output_type": "stream",
     "text": [
      "RMSE \t: 72.2955404356\n",
      "r2_score: 0.951579336819\n"
     ]
    }
   ],
   "source": [
    "# Linear Regression with new features\n",
    "mod = LinearRegression()\n",
    "mod = mod.fit(X_train,y_train)\n",
    "y_pred = mod.predict(X_test)\n",
    "print \"RMSE \\t:\",sqrt(mean_squared_error(y_pred,y_test))\n",
    "print \"r2_score:\",r2_score(y_pred,y_test)"
   ]
  },
  {
   "cell_type": "code",
   "execution_count": 46,
   "metadata": {},
   "outputs": [
    {
     "name": "stdout",
     "output_type": "stream",
     "text": [
      "RMSE \t: 72.219957414\n",
      "r2_score: 0.951676174573\n"
     ]
    }
   ],
   "source": [
    "# Lasso with new features\n",
    "lasreg = Lasso()\n",
    "lasreg.fit(X_train,y_train)\n",
    "ypred = lasreg.predict(X_test)\n",
    "print \"RMSE \\t:\",sqrt(mean_squared_error(ypred,y_test))\n",
    "print \"r2_score:\",r2_score(ypred,y_test)"
   ]
  },
  {
   "cell_type": "markdown",
   "metadata": {},
   "source": [
    "# The End"
   ]
  }
 ],
 "metadata": {
  "kernelspec": {
   "display_name": "Python 2",
   "language": "python",
   "name": "python2"
  },
  "language_info": {
   "codemirror_mode": {
    "name": "ipython",
    "version": 2
   },
   "file_extension": ".py",
   "mimetype": "text/x-python",
   "name": "python",
   "nbconvert_exporter": "python",
   "pygments_lexer": "ipython2",
   "version": "2.7.14"
  }
 },
 "nbformat": 4,
 "nbformat_minor": 2
}
