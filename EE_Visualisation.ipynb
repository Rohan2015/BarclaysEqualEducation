{
 "cells": [
  {
   "cell_type": "code",
   "execution_count": 1,
   "metadata": {
    "collapsed": true
   },
   "outputs": [],
   "source": [
    "import pandas as pd\n",
    "import matplotlib.pyplot as plt\n",
    "%matplotlib inline\n",
    "import seaborn as sns"
   ]
  },
  {
   "cell_type": "code",
   "execution_count": 4,
   "metadata": {},
   "outputs": [
    {
     "data": {
      "text/html": [
       "<div>\n",
       "<style>\n",
       "    .dataframe thead tr:only-child th {\n",
       "        text-align: right;\n",
       "    }\n",
       "\n",
       "    .dataframe thead th {\n",
       "        text-align: left;\n",
       "    }\n",
       "\n",
       "    .dataframe tbody tr th {\n",
       "        vertical-align: top;\n",
       "    }\n",
       "</style>\n",
       "<table border=\"1\" class=\"dataframe\">\n",
       "  <thead>\n",
       "    <tr style=\"text-align: right;\">\n",
       "      <th></th>\n",
       "      <th>LA Code</th>\n",
       "      <th>LA name</th>\n",
       "      <th>LA Region</th>\n",
       "      <th>Year</th>\n",
       "      <th>LA small code</th>\n",
       "      <th>Children Looked after excluding short term placements</th>\n",
       "      <th>Children Looked affter with short term placements</th>\n",
       "      <th>Children who started to be looked after during the year</th>\n",
       "      <th>Male</th>\n",
       "      <th>Female</th>\n",
       "      <th>...</th>\n",
       "      <th>Ordinary lodgings</th>\n",
       "      <th>Foyers</th>\n",
       "      <th>Independent living</th>\n",
       "      <th>Emergency accommodation</th>\n",
       "      <th>Bed and breakfast</th>\n",
       "      <th>In custody</th>\n",
       "      <th>With Former Foster Carer</th>\n",
       "      <th>Other accommodation</th>\n",
       "      <th>Local authority does not have information on accomodation</th>\n",
       "      <th>y = Children looked after at 31st</th>\n",
       "    </tr>\n",
       "  </thead>\n",
       "  <tbody>\n",
       "    <tr>\n",
       "      <th>0</th>\n",
       "      <td>E06000005</td>\n",
       "      <td>Darlington</td>\n",
       "      <td>North East</td>\n",
       "      <td>2016</td>\n",
       "      <td>841</td>\n",
       "      <td>285</td>\n",
       "      <td>0</td>\n",
       "      <td>90</td>\n",
       "      <td>50</td>\n",
       "      <td>40</td>\n",
       "      <td>...</td>\n",
       "      <td>0</td>\n",
       "      <td>0</td>\n",
       "      <td>15</td>\n",
       "      <td>0</td>\n",
       "      <td>0</td>\n",
       "      <td>0</td>\n",
       "      <td>0</td>\n",
       "      <td>0</td>\n",
       "      <td>30</td>\n",
       "      <td>220</td>\n",
       "    </tr>\n",
       "    <tr>\n",
       "      <th>1</th>\n",
       "      <td>E06000047</td>\n",
       "      <td>Durham</td>\n",
       "      <td>North East</td>\n",
       "      <td>2016</td>\n",
       "      <td>840</td>\n",
       "      <td>920</td>\n",
       "      <td>35</td>\n",
       "      <td>305</td>\n",
       "      <td>160</td>\n",
       "      <td>145</td>\n",
       "      <td>...</td>\n",
       "      <td>0</td>\n",
       "      <td>0</td>\n",
       "      <td>90</td>\n",
       "      <td>0</td>\n",
       "      <td>0</td>\n",
       "      <td>10</td>\n",
       "      <td>0</td>\n",
       "      <td>0</td>\n",
       "      <td>5</td>\n",
       "      <td>815</td>\n",
       "    </tr>\n",
       "    <tr>\n",
       "      <th>2</th>\n",
       "      <td>E08000037</td>\n",
       "      <td>Gateshead</td>\n",
       "      <td>North East</td>\n",
       "      <td>2016</td>\n",
       "      <td>390</td>\n",
       "      <td>540</td>\n",
       "      <td>20</td>\n",
       "      <td>205</td>\n",
       "      <td>120</td>\n",
       "      <td>85</td>\n",
       "      <td>...</td>\n",
       "      <td>0</td>\n",
       "      <td>0</td>\n",
       "      <td>45</td>\n",
       "      <td>0</td>\n",
       "      <td>0</td>\n",
       "      <td>0</td>\n",
       "      <td>5</td>\n",
       "      <td>0</td>\n",
       "      <td>15</td>\n",
       "      <td>380</td>\n",
       "    </tr>\n",
       "    <tr>\n",
       "      <th>3</th>\n",
       "      <td>E06000001</td>\n",
       "      <td>Hartlepool</td>\n",
       "      <td>North East</td>\n",
       "      <td>2016</td>\n",
       "      <td>805</td>\n",
       "      <td>270</td>\n",
       "      <td>10</td>\n",
       "      <td>105</td>\n",
       "      <td>55</td>\n",
       "      <td>55</td>\n",
       "      <td>...</td>\n",
       "      <td>0</td>\n",
       "      <td>0</td>\n",
       "      <td>25</td>\n",
       "      <td>0</td>\n",
       "      <td>0</td>\n",
       "      <td>0</td>\n",
       "      <td>10</td>\n",
       "      <td>0</td>\n",
       "      <td>5</td>\n",
       "      <td>255</td>\n",
       "    </tr>\n",
       "    <tr>\n",
       "      <th>4</th>\n",
       "      <td>E06000002</td>\n",
       "      <td>Middlesbrough</td>\n",
       "      <td>North East</td>\n",
       "      <td>2016</td>\n",
       "      <td>806</td>\n",
       "      <td>535</td>\n",
       "      <td>15</td>\n",
       "      <td>180</td>\n",
       "      <td>95</td>\n",
       "      <td>85</td>\n",
       "      <td>...</td>\n",
       "      <td>0</td>\n",
       "      <td>0</td>\n",
       "      <td>40</td>\n",
       "      <td>0</td>\n",
       "      <td>0</td>\n",
       "      <td>0</td>\n",
       "      <td>0</td>\n",
       "      <td>0</td>\n",
       "      <td>15</td>\n",
       "      <td>440</td>\n",
       "    </tr>\n",
       "  </tbody>\n",
       "</table>\n",
       "<p>5 rows × 69 columns</p>\n",
       "</div>"
      ],
      "text/plain": [
       "     LA Code        LA name   LA Region  Year  LA small code  \\\n",
       "0  E06000005     Darlington  North East  2016            841   \n",
       "1  E06000047         Durham  North East  2016            840   \n",
       "2  E08000037      Gateshead  North East  2016            390   \n",
       "3  E06000001     Hartlepool  North East  2016            805   \n",
       "4  E06000002  Middlesbrough  North East  2016            806   \n",
       "\n",
       "   Children Looked after excluding short term placements  \\\n",
       "0                                                285       \n",
       "1                                                920       \n",
       "2                                                540       \n",
       "3                                                270       \n",
       "4                                                535       \n",
       "\n",
       "   Children Looked affter with short term placements  \\\n",
       "0                                                  0   \n",
       "1                                                 35   \n",
       "2                                                 20   \n",
       "3                                                 10   \n",
       "4                                                 15   \n",
       "\n",
       "   Children who started to be looked after during the year  Male  Female  \\\n",
       "0                                                 90          50      40   \n",
       "1                                                305         160     145   \n",
       "2                                                205         120      85   \n",
       "3                                                105          55      55   \n",
       "4                                                180          95      85   \n",
       "\n",
       "                 ...                  Ordinary lodgings  Foyers  \\\n",
       "0                ...                                  0       0   \n",
       "1                ...                                  0       0   \n",
       "2                ...                                  0       0   \n",
       "3                ...                                  0       0   \n",
       "4                ...                                  0       0   \n",
       "\n",
       "   Independent living  Emergency accommodation  Bed and breakfast  In custody  \\\n",
       "0                  15                        0                  0           0   \n",
       "1                  90                        0                  0          10   \n",
       "2                  45                        0                  0           0   \n",
       "3                  25                        0                  0           0   \n",
       "4                  40                        0                  0           0   \n",
       "\n",
       "   With Former Foster Carer  Other accommodation  \\\n",
       "0                         0                    0   \n",
       "1                         0                    0   \n",
       "2                         5                    0   \n",
       "3                        10                    0   \n",
       "4                         0                    0   \n",
       "\n",
       "   Local authority does not have information on accomodation  \\\n",
       "0                                                 30           \n",
       "1                                                  5           \n",
       "2                                                 15           \n",
       "3                                                  5           \n",
       "4                                                 15           \n",
       "\n",
       "   y = Children looked after at 31st  \n",
       "0                                220  \n",
       "1                                815  \n",
       "2                                380  \n",
       "3                                255  \n",
       "4                                440  \n",
       "\n",
       "[5 rows x 69 columns]"
      ]
     },
     "execution_count": 4,
     "metadata": {},
     "output_type": "execute_result"
    }
   ],
   "source": [
    "df = pd.read_csv('EE_Visualisation.csv')\n",
    "df.head()"
   ]
  },
  {
   "cell_type": "markdown",
   "metadata": {},
   "source": [
    "[08:18, 12/8/2017] VJ Greyatom: x as year\n",
    "[08:19, 12/8/2017] VJ Greyatom: nd y as apna Y\n",
    "[08:19, 12/8/2017] VJ Greyatom: and plot a barplot\n",
    "[08:19, 12/8/2017] +91 77100 31402: Ok\n",
    "[08:19, 12/8/2017] VJ Greyatom: import pylab\n",
    "[08:19, 12/8/2017] +91 77100 31402: Actual vs prediction ka b dekta hu\n",
    "[08:20, 12/8/2017] VJ Greyatom: chlega\n",
    "[08:20, 12/8/2017] VJ Greyatom: and one for LA Region on x\n",
    "[08:20, 12/8/2017] VJ Greyatom: nd Y on Y"
   ]
  },
  {
   "cell_type": "code",
   "execution_count": 25,
   "metadata": {},
   "outputs": [
    {
     "data": {
      "image/png": "[encoded data removed]",
      "text/plain": [
       "<matplotlib.figure.Figure at 0x7f3591445ed0>"
      ]
     },
     "metadata": {},
     "output_type": "display_data"
    }
   ],
   "source": [
    "svm = sns.barplot(x=df['Year'],y=df['y = Children looked after at 31st'])\n",
    "svm.set(xlabel='Year',ylabel='Children looked after at 31st March')\n",
    "figure = svm.get_figure()\n",
    "figure.savefig(\"./YearVsChildrenLookedAfter.png\",dpi=400)\n",
    "plt.show()"
   ]
  },
  {
   "cell_type": "code",
   "execution_count": 44,
   "metadata": {},
   "outputs": [
    {
     "data": {
      "image/png": "[encoded data removed]",
      "text/plain": [
       "<matplotlib.figure.Figure at 0x7f35916656d0>"
      ]
     },
     "metadata": {},
     "output_type": "display_data"
    }
   ],
   "source": [
    "svm = sns.barplot(x=df['LA Region'],y=df['y = Children looked after at 31st'])\n",
    "svm.set(xlabel='LA region',ylabel='Children looked after at 31st March')\n",
    "svm.set_xticklabels(svm.get_xticklabels(),rotation=90)\n",
    "figure = svm.get_figure()\n",
    "figure.savefig(\"./LARegionVsChildrenLookedAfter.png\",dpi=400)\n",
    "plt.show()"
   ]
  },
  {
   "cell_type": "code",
   "execution_count": 40,
   "metadata": {
    "collapsed": true
   },
   "outputs": [],
   "source": [
    "ndf = df.copy()"
   ]
  },
  {
   "cell_type": "code",
   "execution_count": 41,
   "metadata": {},
   "outputs": [
    {
     "data": {
      "text/plain": [
       "array(['LA Code', 'LA name', 'LA Region', 'Year', 'LA small code',\n",
       "       'Children Looked after excluding short term placements',\n",
       "       'Children Looked affter with short term placements',\n",
       "       'Children who started to be looked after during the year', 'Male',\n",
       "       'Female', 'Under 1', '1 to 4', '5 to 9', '10 to 15', '16 and over',\n",
       "       'Interim care orders', 'Full care orders',\n",
       "       'Placement order granted', 'Accommodated under S20',\n",
       "       'Detained on child protection grounds in LA accomodation',\n",
       "       'Abuse or neglect', \"Child's disability\",\n",
       "       'Parents illness or disability', 'Family in acute stress',\n",
       "       'Family dysfunction', 'Socially unacceptable behaviour',\n",
       "       'Low income', 'Absent parenting',\n",
       "       'Children who ceased to be looked after during the year', 'Adopted',\n",
       "       'Died', 'Care taken by another LA ',\n",
       "       'Returned home to live with parents or relatives as part of care planning process',\n",
       "       'Residence order granted', 'Special Guardianship Orders',\n",
       "       'Moved into independent living (with supportive accommodation)',\n",
       "       'Moved into independent living (with no formalised support) ',\n",
       "       'Transferred to residential care funded by adult social services ',\n",
       "       'Sentenced to custody', 'Care ceased for any other reason',\n",
       "       'Ceased Male', 'Ceased Female', 'Ceased Under 1',\n",
       "       'Ceased 1 to 4    ', 'Ceased 5 to 9    ', 'Ceased 10 to 15  ',\n",
       "       'Ceased 16 and over ',\n",
       "       'Total Care leavers aged 19,20,21 by activity and Local Authority',\n",
       "       'In higher education i.e. studies beyond A level',\n",
       "       'In education other than higher education',\n",
       "       'In training or employment',\n",
       "       'Total number in education, employment or training',\n",
       "       'illness/   disability', 'other reasonsg',\n",
       "       'Local Authority does not have information on education',\n",
       "       'With parents or relatives', 'Community home',\n",
       "       'Semi-independent transitional accommodation', 'Supported lodgings',\n",
       "       'Ordinary lodgings', 'Foyers', 'Independent living',\n",
       "       'Emergency accommodation', 'Bed and breakfast', 'In custody',\n",
       "       'With Former Foster Carer', 'Other accommodation',\n",
       "       'Local authority does not have information on accomodation',\n",
       "       'y = Children looked after at 31st'], dtype=object)"
      ]
     },
     "execution_count": 41,
     "metadata": {},
     "output_type": "execute_result"
    }
   ],
   "source": [
    "ndf.columns.values"
   ]
  },
  {
   "cell_type": "code",
   "execution_count": 42,
   "metadata": {},
   "outputs": [
    {
     "data": {
      "text/plain": [
       "LA Code                                                             object\n",
       "LA name                                                             object\n",
       "LA Region                                                           object\n",
       "Year                                                                 int64\n",
       "LA small code                                                        int64\n",
       "Children Looked after excluding short term placements                int64\n",
       "Children Looked affter with short term placements                    int64\n",
       "Children who started to be looked after during the year              int64\n",
       "Male                                                                 int64\n",
       "Female                                                               int64\n",
       "Under 1                                                              int64\n",
       "1 to 4                                                               int64\n",
       "5 to 9                                                               int64\n",
       "10 to 15                                                             int64\n",
       "16 and over                                                          int64\n",
       "Interim care orders                                                  int64\n",
       "Full care orders                                                     int64\n",
       "Placement order granted                                              int64\n",
       "Accommodated under S20                                               int64\n",
       "Detained on child protection grounds in LA accomodation              int64\n",
       "Abuse or neglect                                                     int64\n",
       "Child's disability                                                   int64\n",
       "Parents illness or disability                                        int64\n",
       "Family in acute stress                                               int64\n",
       "Family dysfunction                                                   int64\n",
       "Socially unacceptable behaviour                                      int64\n",
       "Low income                                                           int64\n",
       "Absent parenting                                                     int64\n",
       "Children who ceased to be looked after during the year               int64\n",
       "Adopted                                                              int64\n",
       "                                                                     ...  \n",
       "Care ceased for any other reason                                     int64\n",
       "Ceased Male                                                          int64\n",
       "Ceased Female                                                        int64\n",
       "Ceased Under 1                                                       int64\n",
       "Ceased 1 to 4                                                        int64\n",
       "Ceased 5 to 9                                                        int64\n",
       "Ceased 10 to 15                                                      int64\n",
       "Ceased 16 and over                                                   int64\n",
       "Total Care leavers aged 19,20,21 by activity and Local Authority     int64\n",
       "In higher education i.e. studies beyond A level                      int64\n",
       "In education other than higher education                             int64\n",
       "In training or employment                                            int64\n",
       "Total number in education, employment or training                    int64\n",
       "illness/   disability                                                int64\n",
       "other reasonsg                                                       int64\n",
       "Local Authority does not have information on education               int64\n",
       "With parents or relatives                                            int64\n",
       "Community home                                                       int64\n",
       "Semi-independent transitional accommodation                          int64\n",
       "Supported lodgings                                                   int64\n",
       "Ordinary lodgings                                                    int64\n",
       "Foyers                                                               int64\n",
       "Independent living                                                   int64\n",
       "Emergency accommodation                                              int64\n",
       "Bed and breakfast                                                    int64\n",
       "In custody                                                           int64\n",
       "With Former Foster Carer                                             int64\n",
       "Other accommodation                                                  int64\n",
       "Local authority does not have information on accomodation            int64\n",
       "y = Children looked after at 31st                                    int64\n",
       "Length: 69, dtype: object"
      ]
     },
     "execution_count": 42,
     "metadata": {},
     "output_type": "execute_result"
    }
   ],
   "source": [
    "ndf.dtypes"
   ]
  },
  {
   "cell_type": "code",
   "execution_count": 30,
   "metadata": {
    "collapsed": true
   },
   "outputs": [],
   "source": [
    "for col in ndf.columns.values:\n",
    "    if ndf[col].dtypes != 'object':\n",
    "        for i in ndf[col]:\n",
    "            ndf[col+\"_%\"] = (ndf[col]/ndf[col].sum())*100"
   ]
  },
  {
   "cell_type": "code",
   "execution_count": 32,
   "metadata": {},
   "outputs": [
    {
     "data": {
      "text/plain": [
       "array(['LA Code', 'LA name', 'LA Region', 'Year', 'LA small code',\n",
       "       'Children Looked after excluding short term placements',\n",
       "       'Children Looked affter with short term placements',\n",
       "       'Children who started to be looked after during the year', 'Male',\n",
       "       'Female', 'Under 1', '1 to 4', '5 to 9', '10 to 15', '16 and over',\n",
       "       'Interim care orders', 'Full care orders',\n",
       "       'Placement order granted', 'Accommodated under S20',\n",
       "       'Detained on child protection grounds in LA accomodation',\n",
       "       'Abuse or neglect', \"Child's disability\",\n",
       "       'Parents illness or disability', 'Family in acute stress',\n",
       "       'Family dysfunction', 'Socially unacceptable behaviour',\n",
       "       'Low income', 'Absent parenting',\n",
       "       'Children who ceased to be looked after during the year', 'Adopted',\n",
       "       'Died', 'Care taken by another LA ',\n",
       "       'Returned home to live with parents or relatives as part of care planning process',\n",
       "       'Residence order granted', 'Special Guardianship Orders',\n",
       "       'Moved into independent living (with supportive accommodation)',\n",
       "       'Moved into independent living (with no formalised support) ',\n",
       "       'Transferred to residential care funded by adult social services ',\n",
       "       'Sentenced to custody', 'Care ceased for any other reason',\n",
       "       'Ceased Male', 'Ceased Female', 'Ceased Under 1',\n",
       "       'Ceased 1 to 4    ', 'Ceased 5 to 9    ', 'Ceased 10 to 15  ',\n",
       "       'Ceased 16 and over ',\n",
       "       'Total Care leavers aged 19,20,21 by activity and Local Authority',\n",
       "       'In higher education i.e. studies beyond A level',\n",
       "       'In education other than higher education',\n",
       "       'In training or employment',\n",
       "       'Total number in education, employment or training',\n",
       "       'illness/   disability', 'other reasonsg',\n",
       "       'Local Authority does not have information on education',\n",
       "       'With parents or relatives', 'Community home',\n",
       "       'Semi-independent transitional accommodation', 'Supported lodgings',\n",
       "       'Ordinary lodgings', 'Foyers', 'Independent living',\n",
       "       'Emergency accommodation', 'Bed and breakfast', 'In custody',\n",
       "       'With Former Foster Carer', 'Other accommodation',\n",
       "       'Local authority does not have information on accomodation',\n",
       "       'y = Children looked after at 31st', 'Year_%', 'LA small code_%',\n",
       "       'Children Looked after excluding short term placements_%',\n",
       "       'Children Looked affter with short term placements_%',\n",
       "       'Children who started to be looked after during the year_%',\n",
       "       'Male_%', 'Female_%', 'Under 1_%', '1 to 4_%', '5 to 9_%',\n",
       "       '10 to 15_%', '16 and over_%', 'Interim care orders_%',\n",
       "       'Full care orders_%', 'Placement order granted_%',\n",
       "       'Accommodated under S20_%',\n",
       "       'Detained on child protection grounds in LA accomodation_%',\n",
       "       'Abuse or neglect_%', \"Child's disability_%\",\n",
       "       'Parents illness or disability_%', 'Family in acute stress_%',\n",
       "       'Family dysfunction_%', 'Socially unacceptable behaviour_%',\n",
       "       'Low income_%', 'Absent parenting_%',\n",
       "       'Children who ceased to be looked after during the year_%',\n",
       "       'Adopted_%', 'Died_%', 'Care taken by another LA _%',\n",
       "       'Returned home to live with parents or relatives as part of care planning process_%',\n",
       "       'Residence order granted_%', 'Special Guardianship Orders_%',\n",
       "       'Moved into independent living (with supportive accommodation)_%',\n",
       "       'Moved into independent living (with no formalised support) _%',\n",
       "       'Transferred to residential care funded by adult social services _%',\n",
       "       'Sentenced to custody_%', 'Care ceased for any other reason_%',\n",
       "       'Ceased Male_%', 'Ceased Female_%', 'Ceased Under 1_%',\n",
       "       'Ceased 1 to 4    _%', 'Ceased 5 to 9    _%', 'Ceased 10 to 15  _%',\n",
       "       'Ceased 16 and over _%',\n",
       "       'Total Care leavers aged 19,20,21 by activity and Local Authority_%',\n",
       "       'In higher education i.e. studies beyond A level_%',\n",
       "       'In education other than higher education_%',\n",
       "       'In training or employment_%',\n",
       "       'Total number in education, employment or training_%',\n",
       "       'illness/   disability_%', 'other reasonsg_%',\n",
       "       'Local Authority does not have information on education_%',\n",
       "       'With parents or relatives_%', 'Community home_%',\n",
       "       'Semi-independent transitional accommodation_%',\n",
       "       'Supported lodgings_%', 'Ordinary lodgings_%', 'Foyers_%',\n",
       "       'Independent living_%', 'Emergency accommodation_%',\n",
       "       'Bed and breakfast_%', 'In custody_%', 'With Former Foster Carer_%',\n",
       "       'Other accommodation_%',\n",
       "       'Local authority does not have information on accomodation_%',\n",
       "       'y = Children looked after at 31st_%'], dtype=object)"
      ]
     },
     "execution_count": 32,
     "metadata": {},
     "output_type": "execute_result"
    }
   ],
   "source": [
    "ndf.columns.values"
   ]
  },
  {
   "cell_type": "code",
   "execution_count": 33,
   "metadata": {
    "collapsed": true
   },
   "outputs": [],
   "source": [
    "xdf = ndf[['Children Looked after excluding short term placements','Children Looked after excluding short term placements_%']]"
   ]
  },
  {
   "cell_type": "code",
   "execution_count": 35,
   "metadata": {},
   "outputs": [
    {
     "data": {
      "text/plain": [
       "577175L"
      ]
     },
     "execution_count": 35,
     "metadata": {},
     "output_type": "execute_result"
    }
   ],
   "source": [
    "xdf['Children Looked after excluding short term placements'].sum()"
   ]
  },
  {
   "cell_type": "code",
   "execution_count": 37,
   "metadata": {},
   "outputs": [
    {
     "data": {
      "text/html": [
       "<div>\n",
       "<style>\n",
       "    .dataframe thead tr:only-child th {\n",
       "        text-align: right;\n",
       "    }\n",
       "\n",
       "    .dataframe thead th {\n",
       "        text-align: left;\n",
       "    }\n",
       "\n",
       "    .dataframe tbody tr th {\n",
       "        vertical-align: top;\n",
       "    }\n",
       "</style>\n",
       "<table border=\"1\" class=\"dataframe\">\n",
       "  <thead>\n",
       "    <tr style=\"text-align: right;\">\n",
       "      <th></th>\n",
       "      <th>Children Looked after excluding short term placements</th>\n",
       "      <th>Children Looked after excluding short term placements_%</th>\n",
       "    </tr>\n",
       "  </thead>\n",
       "  <tbody>\n",
       "    <tr>\n",
       "      <th>0</th>\n",
       "      <td>285</td>\n",
       "      <td>0.049378</td>\n",
       "    </tr>\n",
       "    <tr>\n",
       "      <th>1</th>\n",
       "      <td>920</td>\n",
       "      <td>0.159397</td>\n",
       "    </tr>\n",
       "    <tr>\n",
       "      <th>2</th>\n",
       "      <td>540</td>\n",
       "      <td>0.093559</td>\n",
       "    </tr>\n",
       "    <tr>\n",
       "      <th>3</th>\n",
       "      <td>270</td>\n",
       "      <td>0.046780</td>\n",
       "    </tr>\n",
       "    <tr>\n",
       "      <th>4</th>\n",
       "      <td>535</td>\n",
       "      <td>0.092693</td>\n",
       "    </tr>\n",
       "  </tbody>\n",
       "</table>\n",
       "</div>"
      ],
      "text/plain": [
       "   Children Looked after excluding short term placements  \\\n",
       "0                                                285       \n",
       "1                                                920       \n",
       "2                                                540       \n",
       "3                                                270       \n",
       "4                                                535       \n",
       "\n",
       "   Children Looked after excluding short term placements_%  \n",
       "0                                           0.049378        \n",
       "1                                           0.159397        \n",
       "2                                           0.093559        \n",
       "3                                           0.046780        \n",
       "4                                           0.092693        "
      ]
     },
     "execution_count": 37,
     "metadata": {},
     "output_type": "execute_result"
    }
   ],
   "source": [
    "xdf.head()"
   ]
  },
  {
   "cell_type": "code",
   "execution_count": 39,
   "metadata": {},
   "outputs": [
    {
     "data": {
      "text/plain": [
       "0"
      ]
     },
     "execution_count": 39,
     "metadata": {},
     "output_type": "execute_result"
    }
   ],
   "source": []
  },
  {
   "cell_type": "code",
   "execution_count": null,
   "metadata": {
    "collapsed": true
   },
   "outputs": [],
   "source": []
  }
 ],
 "metadata": {
  "kernelspec": {
   "display_name": "Python 2",
   "language": "python",
   "name": "python2"
  },
  "language_info": {
   "codemirror_mode": {
    "name": "ipython",
    "version": 2
   },
   "file_extension": ".py",
   "mimetype": "text/x-python",
   "name": "python",
   "nbconvert_exporter": "python",
   "pygments_lexer": "ipython2",
   "version": "2.7.14"
  }
 },
 "nbformat": 4,
 "nbformat_minor": 2
}
